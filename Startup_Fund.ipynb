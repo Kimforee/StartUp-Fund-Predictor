{
  "nbformat": 4,
  "nbformat_minor": 0,
  "metadata": {
    "colab": {
      "provenance": [],
      "include_colab_link": true
    },
    "kernelspec": {
      "name": "python3",
      "display_name": "Python 3"
    },
    "language_info": {
      "name": "python"
    }
  },
  "cells": [
    {
      "cell_type": "markdown",
      "metadata": {
        "id": "view-in-github",
        "colab_type": "text"
      },
      "source": [
        "<a href=\"https://colab.research.google.com/github/Kimforee/StartUp-Fund-Predictor/blob/main/Startup_Fund.ipynb\" target=\"_parent\"><img src=\"https://colab.research.google.com/assets/colab-badge.svg\" alt=\"Open In Colab\"/></a>"
      ]
    },
    {
      "cell_type": "code",
      "execution_count": null,
      "metadata": {
        "id": "LoJ8mb9k6-60"
      },
      "outputs": [],
      "source": [
        "import pandas as pd\n",
        "import numpy as np\n",
        "import matplotlib.pyplot as plt\n",
        "import seaborn as sns\n",
        "from sklearn.model_selection import train_test_split\n",
        "from sklearn.preprocessing import LabelEncoder, StandardScaler\n",
        "from sklearn.ensemble import RandomForestRegressor\n",
        "from sklearn.metrics import mean_squared_error, r2_score"
      ]
    },
    {
      "cell_type": "code",
      "source": [
        "df = pd.read_csv('startup_funding.csv')"
      ],
      "metadata": {
        "id": "ffxWTj2K-LOw"
      },
      "execution_count": null,
      "outputs": []
    },
    {
      "cell_type": "code",
      "source": [
        "df = df.applymap(lambda x: x.lower() if isinstance(x, str) else x)  #all in lower case"
      ],
      "metadata": {
        "id": "sPyQJMVhSRTB"
      },
      "execution_count": null,
      "outputs": []
    },
    {
      "cell_type": "code",
      "source": [
        "print(df.isnull().sum())"
      ],
      "metadata": {
        "colab": {
          "base_uri": "https://localhost:8080/"
        },
        "id": "1pg_6vpKnYii",
        "outputId": "02a635be-19cd-40c1-8053-c1174e2c427e"
      },
      "execution_count": null,
      "outputs": [
        {
          "output_type": "stream",
          "name": "stdout",
          "text": [
            "Sr No                   0\n",
            "Date dd/mm/yyyy         0\n",
            "Startup Name            0\n",
            "Industry Vertical       0\n",
            "SubVertical           936\n",
            "City  Location        180\n",
            "Investors Name          0\n",
            "InvestmentnType         0\n",
            "Amount in USD         960\n",
            "Remarks              2625\n",
            "dtype: int64\n"
          ]
        }
      ]
    },
    {
      "cell_type": "code",
      "source": [
        "df['Investors Name']=df['Investors Name'].fillna('UnDisclosed') #to remove null values"
      ],
      "metadata": {
        "id": "27NSl5NPv0x8"
      },
      "execution_count": null,
      "outputs": []
    },
    {
      "cell_type": "code",
      "source": [
        "df['Industry Vertical'].fillna(df['Industry Vertical'].mode()[0], inplace=True) #remove null value and replace with most occured industry vertical"
      ],
      "metadata": {
        "id": "XeC4yPsRg_PF"
      },
      "execution_count": null,
      "outputs": []
    },
    {
      "cell_type": "code",
      "source": [
        "df['InvestmentnType'].fillna(df['InvestmentnType'].mode()[0], inplace=True)"
      ],
      "metadata": {
        "id": "PpyyWlJZhIbe"
      },
      "execution_count": null,
      "outputs": []
    },
    {
      "cell_type": "code",
      "source": [
        "df['Amount in USD'] = pd.to_numeric(df['Amount in USD'].str.replace(',', ''), errors='coerce') #convert data type from object to numeric\n",
        "df['Amount in USD'].fillna(df['Amount in USD'].mean(), inplace=True)  #remove null and replace with mean\n",
        "# Define the percentile values\n",
        "lower_limit = df['Amount in USD'].quantile(0.01)\n",
        "upper_limit = df['Amount in USD'].quantile(0.99)\n",
        "\n",
        "# Clip the values\n",
        "df['Amount in USD'] = df['Amount in USD'].clip(lower=lower_limit, upper=upper_limit)  #remove outliers"
      ],
      "metadata": {
        "id": "IAWMH62JhvLT"
      },
      "execution_count": null,
      "outputs": []
    },
    {
      "cell_type": "code",
      "source": [
        "print(df.isnull().sum())"
      ],
      "metadata": {
        "colab": {
          "base_uri": "https://localhost:8080/"
        },
        "id": "GOkWEgeFgiRg",
        "outputId": "58dd1e80-86b2-415d-e47a-485142d780cb"
      },
      "execution_count": null,
      "outputs": [
        {
          "output_type": "stream",
          "name": "stdout",
          "text": [
            "Startup Name         0\n",
            "Industry Vertical    0\n",
            "SubVertical          0\n",
            "City  Location       0\n",
            "Investors Name       0\n",
            "InvestmentnType      0\n",
            "Amount in USD        0\n",
            "Date                 0\n",
            "Day                  0\n",
            "Month                0\n",
            "Year                 0\n",
            "Industry Category    0\n",
            "dtype: int64\n"
          ]
        }
      ]
    },
    {
      "cell_type": "code",
      "source": [
        "# Display column names\n",
        "print(df.columns)\n",
        "print(df.dtypes)"
      ],
      "metadata": {
        "colab": {
          "base_uri": "https://localhost:8080/"
        },
        "id": "pfMHO478_YLA",
        "outputId": "4250ce1d-dfaa-4124-e0f2-8be4d86ca703"
      },
      "execution_count": null,
      "outputs": [
        {
          "output_type": "stream",
          "name": "stdout",
          "text": [
            "Index(['Sr No', 'Date dd/mm/yyyy', 'Startup Name', 'Industry Vertical',\n",
            "       'SubVertical', 'City  Location', 'Investors Name', 'InvestmentnType',\n",
            "       'Amount in USD', 'Remarks'],\n",
            "      dtype='object')\n",
            "Sr No                  int64\n",
            "Date dd/mm/yyyy       object\n",
            "Startup Name          object\n",
            "Industry Vertical     object\n",
            "SubVertical           object\n",
            "City  Location        object\n",
            "Investors Name        object\n",
            "InvestmentnType       object\n",
            "Amount in USD        float64\n",
            "Remarks               object\n",
            "dtype: object\n"
          ]
        }
      ]
    },
    {
      "cell_type": "code",
      "source": [
        "df.info()"
      ],
      "metadata": {
        "colab": {
          "base_uri": "https://localhost:8080/"
        },
        "id": "oGZDFnBOViPO",
        "outputId": "e47a4478-abae-4ee7-e922-36a6cc184374"
      },
      "execution_count": null,
      "outputs": [
        {
          "output_type": "stream",
          "name": "stdout",
          "text": [
            "<class 'pandas.core.frame.DataFrame'>\n",
            "RangeIndex: 3044 entries, 0 to 3043\n",
            "Data columns (total 13 columns):\n",
            " #   Column             Non-Null Count  Dtype         \n",
            "---  ------             --------------  -----         \n",
            " 0   Sr No              3044 non-null   int64         \n",
            " 1   Startup Name       3044 non-null   object        \n",
            " 2   Industry Vertical  3044 non-null   object        \n",
            " 3   SubVertical        2108 non-null   object        \n",
            " 4   City  Location     2864 non-null   object        \n",
            " 5   Investors Name     3044 non-null   object        \n",
            " 6   InvestmentnType    3044 non-null   object        \n",
            " 7   Amount in USD      3044 non-null   float64       \n",
            " 8   Remarks            419 non-null    object        \n",
            " 9   Date               3044 non-null   datetime64[ns]\n",
            " 10  Day                3044 non-null   int64         \n",
            " 11  Month              3044 non-null   int64         \n",
            " 12  Year               3044 non-null   int64         \n",
            "dtypes: datetime64[ns](1), float64(1), int64(4), object(7)\n",
            "memory usage: 309.3+ KB\n"
          ]
        }
      ]
    },
    {
      "cell_type": "code",
      "source": [
        "df.head()"
      ],
      "metadata": {
        "colab": {
          "base_uri": "https://localhost:8080/",
          "height": 400
        },
        "id": "v3MIPcQnpdxM",
        "outputId": "6bcb6bc6-e47a-48e2-c88a-2fd1d760dcfb"
      },
      "execution_count": null,
      "outputs": [
        {
          "output_type": "execute_result",
          "data": {
            "text/plain": [
              "   Sr No                  Startup Name    Industry Vertical  \\\n",
              "0      1                        byju’s               e-tech   \n",
              "1      2                        shuttl       transportation   \n",
              "2      3                     mamaearth           e-commerce   \n",
              "3      4  https://www.wealthbucket.in/              fintech   \n",
              "4      5                        fashor  fashion and apparel   \n",
              "\n",
              "                             SubVertical City  Location  \\\n",
              "0                             e-learning      bengaluru   \n",
              "1              app based shuttle service        gurgaon   \n",
              "2  retailer of baby and toddler products      bengaluru   \n",
              "3                      online investment      new delhi   \n",
              "4            embroiled clothes for women         mumbai   \n",
              "\n",
              "              Investors Name       InvestmentnType  Amount in USD Remarks  \\\n",
              "0    tiger global management  private equity round    200000000.0     NaN   \n",
              "1  susquehanna growth equity              series c      8048394.0     NaN   \n",
              "2      sequoia capital india              series b     18358860.0     NaN   \n",
              "3             vinod khatumal          pre-series a      3000000.0     NaN   \n",
              "4    sprout venture partners            seed round      1800000.0     NaN   \n",
              "\n",
              "        Date  Day  Month  Year  \n",
              "0 2020-01-09    9      1  2020  \n",
              "1 2020-01-13   13      1  2020  \n",
              "2 2020-01-09    9      1  2020  \n",
              "3 2020-01-02    2      1  2020  \n",
              "4 2020-01-02    2      1  2020  "
            ],
            "text/html": [
              "\n",
              "  <div id=\"df-1b969643-3f3d-4ad8-ac2d-405b6b6c0cf6\" class=\"colab-df-container\">\n",
              "    <div>\n",
              "<style scoped>\n",
              "    .dataframe tbody tr th:only-of-type {\n",
              "        vertical-align: middle;\n",
              "    }\n",
              "\n",
              "    .dataframe tbody tr th {\n",
              "        vertical-align: top;\n",
              "    }\n",
              "\n",
              "    .dataframe thead th {\n",
              "        text-align: right;\n",
              "    }\n",
              "</style>\n",
              "<table border=\"1\" class=\"dataframe\">\n",
              "  <thead>\n",
              "    <tr style=\"text-align: right;\">\n",
              "      <th></th>\n",
              "      <th>Sr No</th>\n",
              "      <th>Startup Name</th>\n",
              "      <th>Industry Vertical</th>\n",
              "      <th>SubVertical</th>\n",
              "      <th>City  Location</th>\n",
              "      <th>Investors Name</th>\n",
              "      <th>InvestmentnType</th>\n",
              "      <th>Amount in USD</th>\n",
              "      <th>Remarks</th>\n",
              "      <th>Date</th>\n",
              "      <th>Day</th>\n",
              "      <th>Month</th>\n",
              "      <th>Year</th>\n",
              "    </tr>\n",
              "  </thead>\n",
              "  <tbody>\n",
              "    <tr>\n",
              "      <th>0</th>\n",
              "      <td>1</td>\n",
              "      <td>byju’s</td>\n",
              "      <td>e-tech</td>\n",
              "      <td>e-learning</td>\n",
              "      <td>bengaluru</td>\n",
              "      <td>tiger global management</td>\n",
              "      <td>private equity round</td>\n",
              "      <td>200000000.0</td>\n",
              "      <td>NaN</td>\n",
              "      <td>2020-01-09</td>\n",
              "      <td>9</td>\n",
              "      <td>1</td>\n",
              "      <td>2020</td>\n",
              "    </tr>\n",
              "    <tr>\n",
              "      <th>1</th>\n",
              "      <td>2</td>\n",
              "      <td>shuttl</td>\n",
              "      <td>transportation</td>\n",
              "      <td>app based shuttle service</td>\n",
              "      <td>gurgaon</td>\n",
              "      <td>susquehanna growth equity</td>\n",
              "      <td>series c</td>\n",
              "      <td>8048394.0</td>\n",
              "      <td>NaN</td>\n",
              "      <td>2020-01-13</td>\n",
              "      <td>13</td>\n",
              "      <td>1</td>\n",
              "      <td>2020</td>\n",
              "    </tr>\n",
              "    <tr>\n",
              "      <th>2</th>\n",
              "      <td>3</td>\n",
              "      <td>mamaearth</td>\n",
              "      <td>e-commerce</td>\n",
              "      <td>retailer of baby and toddler products</td>\n",
              "      <td>bengaluru</td>\n",
              "      <td>sequoia capital india</td>\n",
              "      <td>series b</td>\n",
              "      <td>18358860.0</td>\n",
              "      <td>NaN</td>\n",
              "      <td>2020-01-09</td>\n",
              "      <td>9</td>\n",
              "      <td>1</td>\n",
              "      <td>2020</td>\n",
              "    </tr>\n",
              "    <tr>\n",
              "      <th>3</th>\n",
              "      <td>4</td>\n",
              "      <td>https://www.wealthbucket.in/</td>\n",
              "      <td>fintech</td>\n",
              "      <td>online investment</td>\n",
              "      <td>new delhi</td>\n",
              "      <td>vinod khatumal</td>\n",
              "      <td>pre-series a</td>\n",
              "      <td>3000000.0</td>\n",
              "      <td>NaN</td>\n",
              "      <td>2020-01-02</td>\n",
              "      <td>2</td>\n",
              "      <td>1</td>\n",
              "      <td>2020</td>\n",
              "    </tr>\n",
              "    <tr>\n",
              "      <th>4</th>\n",
              "      <td>5</td>\n",
              "      <td>fashor</td>\n",
              "      <td>fashion and apparel</td>\n",
              "      <td>embroiled clothes for women</td>\n",
              "      <td>mumbai</td>\n",
              "      <td>sprout venture partners</td>\n",
              "      <td>seed round</td>\n",
              "      <td>1800000.0</td>\n",
              "      <td>NaN</td>\n",
              "      <td>2020-01-02</td>\n",
              "      <td>2</td>\n",
              "      <td>1</td>\n",
              "      <td>2020</td>\n",
              "    </tr>\n",
              "  </tbody>\n",
              "</table>\n",
              "</div>\n",
              "    <div class=\"colab-df-buttons\">\n",
              "\n",
              "  <div class=\"colab-df-container\">\n",
              "    <button class=\"colab-df-convert\" onclick=\"convertToInteractive('df-1b969643-3f3d-4ad8-ac2d-405b6b6c0cf6')\"\n",
              "            title=\"Convert this dataframe to an interactive table.\"\n",
              "            style=\"display:none;\">\n",
              "\n",
              "  <svg xmlns=\"http://www.w3.org/2000/svg\" height=\"24px\" viewBox=\"0 -960 960 960\">\n",
              "    <path d=\"M120-120v-720h720v720H120Zm60-500h600v-160H180v160Zm220 220h160v-160H400v160Zm0 220h160v-160H400v160ZM180-400h160v-160H180v160Zm440 0h160v-160H620v160ZM180-180h160v-160H180v160Zm440 0h160v-160H620v160Z\"/>\n",
              "  </svg>\n",
              "    </button>\n",
              "\n",
              "  <style>\n",
              "    .colab-df-container {\n",
              "      display:flex;\n",
              "      gap: 12px;\n",
              "    }\n",
              "\n",
              "    .colab-df-convert {\n",
              "      background-color: #E8F0FE;\n",
              "      border: none;\n",
              "      border-radius: 50%;\n",
              "      cursor: pointer;\n",
              "      display: none;\n",
              "      fill: #1967D2;\n",
              "      height: 32px;\n",
              "      padding: 0 0 0 0;\n",
              "      width: 32px;\n",
              "    }\n",
              "\n",
              "    .colab-df-convert:hover {\n",
              "      background-color: #E2EBFA;\n",
              "      box-shadow: 0px 1px 2px rgba(60, 64, 67, 0.3), 0px 1px 3px 1px rgba(60, 64, 67, 0.15);\n",
              "      fill: #174EA6;\n",
              "    }\n",
              "\n",
              "    .colab-df-buttons div {\n",
              "      margin-bottom: 4px;\n",
              "    }\n",
              "\n",
              "    [theme=dark] .colab-df-convert {\n",
              "      background-color: #3B4455;\n",
              "      fill: #D2E3FC;\n",
              "    }\n",
              "\n",
              "    [theme=dark] .colab-df-convert:hover {\n",
              "      background-color: #434B5C;\n",
              "      box-shadow: 0px 1px 3px 1px rgba(0, 0, 0, 0.15);\n",
              "      filter: drop-shadow(0px 1px 2px rgba(0, 0, 0, 0.3));\n",
              "      fill: #FFFFFF;\n",
              "    }\n",
              "  </style>\n",
              "\n",
              "    <script>\n",
              "      const buttonEl =\n",
              "        document.querySelector('#df-1b969643-3f3d-4ad8-ac2d-405b6b6c0cf6 button.colab-df-convert');\n",
              "      buttonEl.style.display =\n",
              "        google.colab.kernel.accessAllowed ? 'block' : 'none';\n",
              "\n",
              "      async function convertToInteractive(key) {\n",
              "        const element = document.querySelector('#df-1b969643-3f3d-4ad8-ac2d-405b6b6c0cf6');\n",
              "        const dataTable =\n",
              "          await google.colab.kernel.invokeFunction('convertToInteractive',\n",
              "                                                    [key], {});\n",
              "        if (!dataTable) return;\n",
              "\n",
              "        const docLinkHtml = 'Like what you see? Visit the ' +\n",
              "          '<a target=\"_blank\" href=https://colab.research.google.com/notebooks/data_table.ipynb>data table notebook</a>'\n",
              "          + ' to learn more about interactive tables.';\n",
              "        element.innerHTML = '';\n",
              "        dataTable['output_type'] = 'display_data';\n",
              "        await google.colab.output.renderOutput(dataTable, element);\n",
              "        const docLink = document.createElement('div');\n",
              "        docLink.innerHTML = docLinkHtml;\n",
              "        element.appendChild(docLink);\n",
              "      }\n",
              "    </script>\n",
              "  </div>\n",
              "\n",
              "\n",
              "<div id=\"df-dc2d0124-f389-4718-846b-c205dc70b3a3\">\n",
              "  <button class=\"colab-df-quickchart\" onclick=\"quickchart('df-dc2d0124-f389-4718-846b-c205dc70b3a3')\"\n",
              "            title=\"Suggest charts\"\n",
              "            style=\"display:none;\">\n",
              "\n",
              "<svg xmlns=\"http://www.w3.org/2000/svg\" height=\"24px\"viewBox=\"0 0 24 24\"\n",
              "     width=\"24px\">\n",
              "    <g>\n",
              "        <path d=\"M19 3H5c-1.1 0-2 .9-2 2v14c0 1.1.9 2 2 2h14c1.1 0 2-.9 2-2V5c0-1.1-.9-2-2-2zM9 17H7v-7h2v7zm4 0h-2V7h2v10zm4 0h-2v-4h2v4z\"/>\n",
              "    </g>\n",
              "</svg>\n",
              "  </button>\n",
              "\n",
              "<style>\n",
              "  .colab-df-quickchart {\n",
              "      --bg-color: #E8F0FE;\n",
              "      --fill-color: #1967D2;\n",
              "      --hover-bg-color: #E2EBFA;\n",
              "      --hover-fill-color: #174EA6;\n",
              "      --disabled-fill-color: #AAA;\n",
              "      --disabled-bg-color: #DDD;\n",
              "  }\n",
              "\n",
              "  [theme=dark] .colab-df-quickchart {\n",
              "      --bg-color: #3B4455;\n",
              "      --fill-color: #D2E3FC;\n",
              "      --hover-bg-color: #434B5C;\n",
              "      --hover-fill-color: #FFFFFF;\n",
              "      --disabled-bg-color: #3B4455;\n",
              "      --disabled-fill-color: #666;\n",
              "  }\n",
              "\n",
              "  .colab-df-quickchart {\n",
              "    background-color: var(--bg-color);\n",
              "    border: none;\n",
              "    border-radius: 50%;\n",
              "    cursor: pointer;\n",
              "    display: none;\n",
              "    fill: var(--fill-color);\n",
              "    height: 32px;\n",
              "    padding: 0;\n",
              "    width: 32px;\n",
              "  }\n",
              "\n",
              "  .colab-df-quickchart:hover {\n",
              "    background-color: var(--hover-bg-color);\n",
              "    box-shadow: 0 1px 2px rgba(60, 64, 67, 0.3), 0 1px 3px 1px rgba(60, 64, 67, 0.15);\n",
              "    fill: var(--button-hover-fill-color);\n",
              "  }\n",
              "\n",
              "  .colab-df-quickchart-complete:disabled,\n",
              "  .colab-df-quickchart-complete:disabled:hover {\n",
              "    background-color: var(--disabled-bg-color);\n",
              "    fill: var(--disabled-fill-color);\n",
              "    box-shadow: none;\n",
              "  }\n",
              "\n",
              "  .colab-df-spinner {\n",
              "    border: 2px solid var(--fill-color);\n",
              "    border-color: transparent;\n",
              "    border-bottom-color: var(--fill-color);\n",
              "    animation:\n",
              "      spin 1s steps(1) infinite;\n",
              "  }\n",
              "\n",
              "  @keyframes spin {\n",
              "    0% {\n",
              "      border-color: transparent;\n",
              "      border-bottom-color: var(--fill-color);\n",
              "      border-left-color: var(--fill-color);\n",
              "    }\n",
              "    20% {\n",
              "      border-color: transparent;\n",
              "      border-left-color: var(--fill-color);\n",
              "      border-top-color: var(--fill-color);\n",
              "    }\n",
              "    30% {\n",
              "      border-color: transparent;\n",
              "      border-left-color: var(--fill-color);\n",
              "      border-top-color: var(--fill-color);\n",
              "      border-right-color: var(--fill-color);\n",
              "    }\n",
              "    40% {\n",
              "      border-color: transparent;\n",
              "      border-right-color: var(--fill-color);\n",
              "      border-top-color: var(--fill-color);\n",
              "    }\n",
              "    60% {\n",
              "      border-color: transparent;\n",
              "      border-right-color: var(--fill-color);\n",
              "    }\n",
              "    80% {\n",
              "      border-color: transparent;\n",
              "      border-right-color: var(--fill-color);\n",
              "      border-bottom-color: var(--fill-color);\n",
              "    }\n",
              "    90% {\n",
              "      border-color: transparent;\n",
              "      border-bottom-color: var(--fill-color);\n",
              "    }\n",
              "  }\n",
              "</style>\n",
              "\n",
              "  <script>\n",
              "    async function quickchart(key) {\n",
              "      const quickchartButtonEl =\n",
              "        document.querySelector('#' + key + ' button');\n",
              "      quickchartButtonEl.disabled = true;  // To prevent multiple clicks.\n",
              "      quickchartButtonEl.classList.add('colab-df-spinner');\n",
              "      try {\n",
              "        const charts = await google.colab.kernel.invokeFunction(\n",
              "            'suggestCharts', [key], {});\n",
              "      } catch (error) {\n",
              "        console.error('Error during call to suggestCharts:', error);\n",
              "      }\n",
              "      quickchartButtonEl.classList.remove('colab-df-spinner');\n",
              "      quickchartButtonEl.classList.add('colab-df-quickchart-complete');\n",
              "    }\n",
              "    (() => {\n",
              "      let quickchartButtonEl =\n",
              "        document.querySelector('#df-dc2d0124-f389-4718-846b-c205dc70b3a3 button');\n",
              "      quickchartButtonEl.style.display =\n",
              "        google.colab.kernel.accessAllowed ? 'block' : 'none';\n",
              "    })();\n",
              "  </script>\n",
              "</div>\n",
              "    </div>\n",
              "  </div>\n"
            ]
          },
          "metadata": {},
          "execution_count": 26
        }
      ]
    },
    {
      "cell_type": "code",
      "source": [
        "df['Date'] = pd.to_datetime(df['Date dd/mm/yyyy'], format='%d-%m-%Y')\n",
        "# Extract month and year from the Date\n",
        "df['Day'] = df['Date'].dt.day\n",
        "df['Month'] = df['Date'].dt.month\n",
        "df['Year'] = df['Date'].dt.year"
      ],
      "metadata": {
        "id": "jtSVDmSExiVj"
      },
      "execution_count": null,
      "outputs": []
    },
    {
      "cell_type": "code",
      "source": [
        "df3 = df.copy(deep=True)"
      ],
      "metadata": {
        "id": "RD9atsfB0d8S"
      },
      "execution_count": null,
      "outputs": []
    },
    {
      "cell_type": "code",
      "source": [
        "df.drop(['Date dd/mm/yyyy'],axis=1, inplace=True)"
      ],
      "metadata": {
        "id": "rvNzjwyRuxE9"
      },
      "execution_count": null,
      "outputs": []
    },
    {
      "cell_type": "code",
      "source": [
        "df.drop(['Remarks','Sr No'],axis=1, inplace=True)"
      ],
      "metadata": {
        "id": "g-V-kwmDyKwZ"
      },
      "execution_count": null,
      "outputs": []
    },
    {
      "cell_type": "code",
      "source": [
        "df.drop(['Date'],axis=1, inplace=True)"
      ],
      "metadata": {
        "id": "jTcZcQw0vAS-"
      },
      "execution_count": null,
      "outputs": []
    },
    {
      "cell_type": "code",
      "source": [
        "#replace in startup names\n",
        "df['Startup Name'] = df['Startup Name'].str.lower()\n",
        "df['Startup Name'] = df['Startup Name'].replace('\"byju\\\\\\'s\"','byju’s')\n",
        "df['Startup Name'] = df['Startup Name'].replace(\"'byju\\\\'s'\",\"byju’s\")\n",
        "df['Startup Name'] = df['Startup Name'].replace('byju\\\\xe2\\\\x80\\\\x99s','byju’s')\n",
        "df['Startup Name'] = df['Startup Name'].replace('byju\\\\xe2\\\\x80\\\\x99s','byju’s')\n",
        "df['Startup Name'] = df['Startup Name'].replace('flipkart.com','flipkart')\n",
        "df['Startup Name'] = df['Startup Name'].replace('oyo rooms','oyo')\n",
        "df['Startup Name'] = df['Startup Name'].replace('oyo','oyo')\n",
        "df['Startup Name'] = df['Startup Name'].replace('oyo rooms','oyo')\n",
        "df['Startup Name'] = df['Startup Name'].replace('oyorooms','oyo')\n",
        "df['Startup Name'] = df['Startup Name'].replace('oyorooms','oyo')\n",
        "df['Startup Name'] = df['Startup Name'].replace('ola cabs','ola')\n",
        "df['Startup Name'] = df['Startup Name'].replace('olacabs','ola')\n",
        "df['Startup Name'] = df['Startup Name'].replace('https://www.wealthbucket.in/','wealthbucket')\n",
        "df['Startup Name'] = df['Startup Name'].apply(lambda x: str(x).replace('\\\\\\\\xe2\\\\\\\\x80\\\\\\\\x99',''))\n",
        "df['Startup Name'] = df['Startup Name'].apply(lambda x: str(x).replace('\\\\xc2\\\\xa0',''))\n",
        "df['Startup Name'] = df['Startup Name'].apply(lambda x: str(x).replace('\\\\\\\\xc2\\\\\\\\xa0',''))\n",
        "df.sort_values(by='Startup Name', inplace=True)"
      ],
      "metadata": {
        "id": "XNr52xNe3aGP"
      },
      "execution_count": null,
      "outputs": []
    },
    {
      "cell_type": "code",
      "source": [
        "#\n",
        "df['SubVertical'] = df['SubVertical'].apply(lambda x: str(x).replace('\\\\xc2\\\\xa0',''))\n",
        "df['SubVertical'] = df['SubVertical'].apply(lambda x: str(x).replace('\\\\\\\\xc2\\\\\\\\xa0',''))\n",
        "df['SubVertical'] = df['SubVertical'].apply(lambda x: str(x).replace('nan','Unknown'))"
      ],
      "metadata": {
        "id": "RpZ8gmqF5O6R"
      },
      "execution_count": null,
      "outputs": []
    },
    {
      "cell_type": "code",
      "source": [
        "df['City  Location'] = df['City  Location'].str.lower()\n",
        "df['City  Location'] = df['City  Location'].replace('delhi', 'new delhi')\n",
        "df['City  Location'] = df['City  Location'].replace('bengaluru', 'bangalore')\n",
        "df['City  Location'] = df['City  Location'].apply(lambda x: str(x).replace('bengaluru','bangalore'))\n",
        "df['City  Location'] = df['City  Location'].apply(lambda x: str(x).replace('and','/'))\n",
        "df['City  Location'] = df['City  Location'].apply(lambda x: str(x).replace(',','/'))\n",
        "df['City  Location'] = df['City  Location'].replace('gurugram', 'gurgaon')\n",
        "df['City  Location'] = df['City  Location'].replace('new york, bengaluru', 'bangalore')\n",
        "df['City  Location'] = df['City  Location'].replace('delhi & cambridge', 'new delhi')\n",
        "df['City  Location'] = df['City  Location'].replace('kolkatta', 'kolkata')\n",
        "df['City  Location'] = df['City  Location'].replace('nan', 'other')\n",
        "df['City  Location'] = df['City  Location'].replace('ahemadabad', 'ahemdabad')\n",
        "df['City  Location'] = df['City  Location'].replace('bhubaneswar', 'bhubneswar')\n",
        "df['City  Location'] = df['City  Location'].replace('nw delhi', 'new delhi')\n",
        "df['City  Location'] = df['City  Location'].replace('\\\\\\\\xc2\\\\\\\\xa0noida', 'noida')\n",
        "df['City  Location'] = df['City  Location'].replace('\\\\\\\\xc2\\\\\\\\xa0bangalore', 'bangalore')\n",
        "df['City  Location'] = df['City  Location'].replace('\\\\\\\\xc2\\\\\\\\xa0gurgaon', 'gurgaon')\n",
        "df['City  Location'] = df['City  Location'].replace('\\\\\\\\xc2\\\\\\\\xa0new delhi', 'new delhi')\n",
        "df['City  Location'] = df['City  Location'].replace('\\\\\\\\xc2\\\\\\\\xa0mumbai', 'mumbai')\n",
        "df['City  Location'] = df['City  Location'].apply(lambda x: str(x).replace('\\\\\\\\xc2\\\\\\\\xa0',''))"
      ],
      "metadata": {
        "id": "YZwGH8Khyf6R"
      },
      "execution_count": null,
      "outputs": []
    },
    {
      "cell_type": "code",
      "source": [
        "unique_invest = df['City  Location'].unique()\n",
        "print(unique_invest)"
      ],
      "metadata": {
        "colab": {
          "base_uri": "https://localhost:8080/"
        },
        "id": "eWoH2gHDys0S",
        "outputId": "97d7aba2-1e6a-4be8-da3b-3e2c5782e012"
      },
      "execution_count": null,
      "outputs": [
        {
          "output_type": "stream",
          "name": "stdout",
          "text": [
            "['other' 'kolkata' 'gurgaon' 'mumbai' 'kanpur' 'bangalore' 'new delhi'\n",
            " 'hyderabad' 'goa/hyderabad' 'burnsville' 'udupi' 'chennai' 'jaipur'\n",
            " 'pune' 'new delhi/ houston' 'singapore' 'noida' 'ch/igarh'\n",
            " 'new york/ india' 'ahmedabad' 'missourie' 'coimbatore' 'bhubneswar'\n",
            " 'pune / us' 'faridabad' 'california' 'india / us'\n",
            " 'new delhi / california' 'usa/india' 'new york' 'new york/ bangalore'\n",
            " 'chembur' 'vadodara' 'goa' 'mumbai / ny' 'indore' 'bangalore / san mateo'\n",
            " 'san jose/' 'noida / singapore' 'chennai/ singapore' 'nagpur' 'varanasi'\n",
            " 'sfo / bangalore' 'amritsar' 'lucknow' 'ahemdabad' 'india/us'\n",
            " 'hyderabad/usa' 'mumbai / global' 'hubli' 'san francisco' 'us' 'tulangan'\n",
            " 'triv/rum' 'menlo park' 'bangalore / sfo' 'gwalior' 'pune/seattle'\n",
            " 'uttar pradesh' 'new delhi / us' 'india' '/heri' 'bangalore / usa'\n",
            " 'bhopal' 'udaipur' 'srinagar' 'dallas / hyderabad' 'kochi'\n",
            " 'mumbai/bangalore' 'pune / dubai' 'pune / singapore' 'mumbai / uk'\n",
            " 'bangalore / gurugram' 'karur' 'haryana' 'kormangala' 'jodhpur' 'usa'\n",
            " 'surat' 'rourkela' 'gaya' 'belgaum' 'kozhikode' 'agra' 'gurgaon / sfo'\n",
            " 'nairobi' 'seattle / bangalore' 'bangalore / palo alto' 'santa monica'\n",
            " 'siliguri' 'panaji' 'london' 'us/india' 'taramani' 'palo alto'\n",
            " 'karnataka' 'kerala' 'boston' 'bangalore/ bangkok' 'india/singapore']\n"
          ]
        }
      ]
    },
    {
      "cell_type": "code",
      "source": [
        "df['InvestmentnType'].replace({'private\\\\\\\\nequity': 'private equity round'}, inplace=True)\n",
        "df['InvestmentnType'].replace({'seed/angel funding': 'seed / angel funding'}, inplace=True)\n",
        "df['InvestmentnType'].replace({'seed / angle funding': 'seed / angel funding'}, inplace=True)\n",
        "df['InvestmentnType'].replace({'angel / seed funding': 'seed / angel funding'}, inplace=True)\n",
        "df['InvestmentnType'].replace({'seed/ angel funding': 'seed / angel funding'}, inplace=True)\n",
        "df['InvestmentnType'].replace({'angel': 'angel funding'}, inplace=True)\n",
        "df['InvestmentnType'].replace({'angel round': 'angel funding'}, inplace=True)\n",
        "df['InvestmentnType'].replace({'seed': 'seed funding'}, inplace=True)\n",
        "df['InvestmentnType'].replace({'seed round': 'seed funding'}, inplace=True)\n",
        "df['InvestmentnType'].replace({'seed funding round': 'seed funding'}, inplace=True)\n",
        "df['InvestmentnType'].replace({'seed funding round': 'seed funding'}, inplace=True)\n",
        "\n",
        "investment_type_mapping = {\n",
        "    'private equity': 'private equity funding',\n",
        "    'private equity round': 'private equity funding',\n",
        "    'private funding': 'private funding',\n",
        "    'private equity funding': 'private equity funding',\n",
        "    'equity funding': 'private equity funding',\n",
        "    'privateequity': 'private equity funding',\n",
        "    'equity funding': 'equity funding',\n",
        "    'venture': 'venture round',\n",
        "    'seed funding': 'seed funding',\n",
        "    'debt funding': 'debt funding',\n",
        "    'angel funding': 'angel funding',\n",
        "    'series a': 'series a',\n",
        "    'series b': 'series b',\n",
        "    'series c': 'series c',\n",
        "    'series d': 'series d',\n",
        "    'series e': 'series e',\n",
        "    'series f': 'series f',\n",
        "    'series g': 'series g',\n",
        "    'series h': 'series h',\n",
        "    'series j': 'series j',\n",
        "    'funding round': 'private funding',\n",
        "    'corporate round': 'corporate round',\n",
        "    'maiden round': 'maiden round',\n",
        "    'single venture': 'single venture',\n",
        "    'venture round': 'venture round',\n",
        "    'venture - series unknown': 'venture round',\n",
        "    'bridge round': 'bridge round',\n",
        "    'debt and preference capital': 'debt and preference capital',\n",
        "    'inhouse funding': 'inhouse funding',\n",
        "    'seed / angel funding': 'seed / angel funding',\n",
        "    'debt': 'debt funding',\n",
        "    'pre series a': 'pre-series a',\n",
        "    'equity': 'equity funding',\n",
        "    'debt-funding': 'debt funding',\n",
        "    'mezzanine': 'mezzanine',\n",
        "    'series b (extension)': 'series b',\n",
        "    'equity based funding': 'equity funding',\n",
        "    'private funding': 'private funding',\n",
        "    'private': 'private funding',\n",
        "    'structured debt': 'debt funding',\n",
        "    'term loan': 'term loan',\n",
        "    'seed\\\\\\\\nfunding': 'seed funding',\n",
        "    'crowd funding': 'crowd funding',\n",
        "}\n",
        "\n",
        "# Replace similar terms with a standardized category\n",
        "df['InvestmentnType'].replace(investment_type_mapping, inplace=True)\n"
      ],
      "metadata": {
        "id": "C12maWwLWpk5"
      },
      "execution_count": null,
      "outputs": []
    },
    {
      "cell_type": "code",
      "source": [
        "unique_invest = df['InvestmentnType'].unique()\n",
        "print(unique_invest)"
      ],
      "metadata": {
        "colab": {
          "base_uri": "https://localhost:8080/"
        },
        "id": "_7KA4fmvSTtt",
        "outputId": "2572841b-ec74-4964-cb1b-0d30bc078174"
      },
      "execution_count": null,
      "outputs": [
        {
          "output_type": "stream",
          "name": "stdout",
          "text": [
            "['private equity funding' 'seed funding' 'seed / angel funding'\n",
            " 'pre-series a' 'series a' 'equity funding' 'debt funding'\n",
            " 'single venture' 'series c' 'series b' 'term loan' 'private funding'\n",
            " 'series d' 'angel funding' 'venture round' 'inhouse funding' 'mezzanine'\n",
            " 'series e' 'maiden round' 'series h' 'series f' 'series g'\n",
            " 'crowd funding' 'series j' 'corporate round' 'bridge round'\n",
            " 'debt and preference capital']\n"
          ]
        }
      ]
    },
    {
      "cell_type": "code",
      "source": [
        "df['Industry Vertical'] = df['Industry Vertical'].apply(lambda x: str(x).replace('\\\\xc2\\\\xa0',''))\n",
        "df['Industry Vertical'] = df['Industry Vertical'].apply(lambda x: str(x).replace('\\\\\\\\xc2\\\\\\\\xa0',''))\n",
        "df['Industry Vertical'] = df['Industry Vertical'].apply(lambda x: str(x).replace('\\\\xe2\\\\x80\\\\x93',''))\n",
        "df['Industry Vertical'] = df['Industry Vertical'].apply(lambda x: str(x).replace('\\\\\\\\n',''))\n",
        "df['Industry Vertical'] = df['Industry Vertical'].apply(lambda x: str(x).replace('\\\\\\\\xc3\\\\\\\\xa9\\\\\\\\xe2\\\\\\\\x80\\\\\\\\x99s','e'))\n",
        "df['Industry Vertical'] = df['Industry Vertical'].apply(lambda x: str(x).replace('\\\\\\\\xc3\\\\\\\\xa9','e'))\n",
        "df['Industry Vertical'] = df['Industry Vertical'].apply(lambda x: str(x).replace('\\\\\\\\xe2\\\\\\\\x80\\\\\\\\x99','e'))\n",
        "df['Industry Vertical'] = df['Industry Vertical'].apply(lambda x: str(x).replace('\\\\\\\\xe2\\\\\\\\x80\\\\\\\\x99','e'))\n",
        "df['Industry Vertical'].fillna(value='Other', inplace=True)"
      ],
      "metadata": {
        "id": "WH4DQPJviASw"
      },
      "execution_count": null,
      "outputs": []
    },
    {
      "cell_type": "code",
      "source": [
        "unique_indusverticals = df['Industry Vertical'].unique()\n",
        "print(unique_indusverticals)"
      ],
      "metadata": {
        "id": "01Q1Du3kt0O7"
      },
      "execution_count": null,
      "outputs": []
    },
    {
      "cell_type": "code",
      "source": [
        "# Mapping from Industry Vertical to Industry Category\n",
        "industry_mapping = {\n",
        "    'technology': 'Technology',\n",
        "    'e-tech':'Technology',\n",
        "    'transportation': 'Transportation',\n",
        "    'e-commerce': 'E-Commerce',\n",
        "    '': 'Other',\n",
        "    'nan': 'Other',\n",
        "    'finance technology': 'Finance Technology',\n",
        "    'fashion': 'Fashion',\n",
        "    'logistics': 'Logistics and Services',\n",
        "    'hospitality': 'Hospitality',\n",
        "    'aerospace': 'Aerospace',\n",
        "    'foodtech': 'Food and Beverage',\n",
        "    'finance': 'Finance Technology',\n",
        "    'video': 'Media and Entertainment',\n",
        "    'gaming': 'Media and Entertainment',\n",
        "    'software': 'Technology Solutions',\n",
        "    'healthcare': 'Healthcare',\n",
        "    'education': 'Education',\n",
        "    'food and beverage': 'Food and Beverage',\n",
        "    'b2b marketing': 'Marketing and Advertising',\n",
        "    'video games': 'Media and Entertainment',\n",
        "    'saas': 'Technology Solutions',\n",
        "    'last mile transportation': 'Transportation',\n",
        "    'customer service': 'Others',\n",
        "    'b2b': 'Others',\n",
        "    'consumer products': 'Others',\n",
        "    'marketing': 'Marketing and Advertising',\n",
        "    'internet of things': 'Technology',\n",
        "    'accounting': 'Finance Technology',\n",
        "    'retail': 'E-Commerce',\n",
        "    'customer service platform': 'Others',\n",
        "    'automotive': 'Technology',\n",
        "    'education technology': 'Education',\n",
        "    'services': 'Logistics and Services',\n",
        "    'compliance': 'Finance Technology',\n",
        "    'transport': 'Transportation',\n",
        "    'artificial intelligence': 'Technology',\n",
        "    'health care': 'Healthcare',\n",
        "    'luxury label': 'Fashion and Apparel',\n",
        "    'waste management service': 'Logistics and Services',\n",
        "    'deep-tech': 'Technology',\n",
        "    'agriculture': 'Others',\n",
        "    'energy': 'Energy and Clean Technology',\n",
        "    'digital media': 'Media and Entertainment',\n",
        "    'automobile': 'Transportation',\n",
        "    'agtech': 'Others',\n",
        "    'social media': 'Media and Entertainment',\n",
        "    'ai': 'Technology',\n",
        "    'ecommerce': 'E-Commerce',\n",
        "    'services platform': 'Logistics and Services',\n",
        "    'travel tech': 'Technology',\n",
        "    'online education': 'Education',\n",
        "    'online marketplace': 'E-Commerce',\n",
        "    'saas, ecommerce': 'Technology Solutions',\n",
        "    'nbfc': 'Finance',\n",
        "    'food': 'Food and Beverage',\n",
        "    'food tech': 'Food and Beverage',\n",
        "    'automation': 'Technology',\n",
        "    'investment': 'Finance',\n",
        "    'social network': 'Media and Entertainment',\n",
        "    'financial tech': 'Finance',\n",
        "    'real estate': 'Real Estate and Property',\n",
        "    'logistics tech': 'Logistics and Services',\n",
        "    'consumer internet': 'Technology',\n",
        "    'b2b platform': 'Others',\n",
        "    'fin-tech': 'Finance',\n",
        "    'food-tech': 'Food and Beverage',\n",
        "    'ed-tech': 'Education',\n",
        "    'it': 'Technology',\n",
        "    'clean technology': 'Energy and Clean Technology',\n",
        "    'fiinance': 'Finance',\n",
        "    'food and beverages': 'Food and Beverage',\n",
        "    'entertainment': 'Media and Entertainment',\n",
        "    'inspiration': 'Others',\n",
        "    'storytelling': 'Others',\n",
        "    'others': 'Others',\n",
        "    'food & beverage': 'Food and Beverage',\n",
        "    'consumer portal': 'Technology',\n",
        "    'fmcg': 'Others',\n",
        "    'reality': 'Others',\n",
        "    'consumer interne': 'Technology',\n",
        "    'online education information platform': 'Education',\n",
        "    'brand licensing startup': 'Others',\n",
        "    'gourmet food discovery & delivery platform': 'Food and Beverage',\n",
        "    'transportation & logistics platform': 'Logistics and Services',\n",
        "    'enterprise marketing automation platform': 'Marketing and Advertising',\n",
        "    'health, wellness & beauty services app': 'Healthcare',\n",
        "    'digital healthcare': 'Healthcare',\n",
        "    'last minute hotel booking app': 'Hospitality',\n",
        "    'womens fashion wear portal': 'Fashion',\n",
        "    'product learning platform': 'Education',\n",
        "    'online food ordering & delivery platform': 'Food and Beverage',\n",
        "    'app based bus pooling services': 'Transportation',\n",
        "    'social learning platform': 'Education',\n",
        "    'social fitness platform': 'Healthcare',\n",
        "    'on demand mobile app developer': 'Technology',\n",
        "    'car maintenance & management mobile app': 'Transportation',\n",
        "    'online wedding marketplace': 'E-Commerce',\n",
        "    'splitting bills mobile app': 'Finance',\n",
        "    'iot energy management analytics platform': 'Energy',\n",
        "    'custom made furniture e-tailer': 'E-Commerce',\n",
        "    'qsr chain': 'Hospitality',\n",
        "    'elearning platform': 'Education',\n",
        "    'smart safety wearable devices': 'Healthcare',\n",
        "    'cab sharing service mobile app': 'Transportation',\n",
        "    'cloud enterprise mobility platform': 'Technology',\n",
        "    'online shopping assistant mobile app': 'E-Commerce',\n",
        "    'home cooked food order & delivery platform': 'Food and Beverage',\n",
        "    'online school for analytics learning': 'Education',\n",
        "    'chat based personal assistant app': 'Technology',\n",
        "    'picture creation & social mobile app': 'Media and Entertainment',\n",
        "    'nonbanking finance company': 'Finance',\n",
        "    'ecommerce returns etailer': 'E-Commerce',\n",
        "    'online freight services aggregator': 'Logistics and Services',\n",
        "    'online branded furniture etailer': 'E-Commerce',\n",
        "    'digital analytics platform': 'Technology',\n",
        "    'internet network infrastructure services': 'Technology',\n",
        "    'supply chain & logistics solutions': 'Logistics and Services',\n",
        "    'holiday resort chain': 'Hospitality',\n",
        "    'mobile point of sale solutions': 'Technology',\n",
        "    'peer-to-peer money transfer & recharge app': 'Finance',\n",
        "    'test automation saas platform': 'Technology Solutions',\n",
        "    'citizens engagement platform': 'Others',\n",
        "    'indoor navigation & analytics solutions': 'Technology',\n",
        "    'hyperlocal on-demand household services platform': 'Logistics and Services',\n",
        "    'online rti application services': 'Others',\n",
        "    'ecommerce website creation saas platform': 'Technology Solutions',\n",
        "    'wedding venues & vendors marketplace': 'Hospitality',\n",
        "    'interface development platform for government officials': 'Others',\n",
        "    'modular furnishings marketplace': 'Real Estate and Property',\n",
        "    'private jet bookings marketplace': 'Hospitality',\n",
        "    'cab search comparison & booking platform': 'Transportation',\n",
        "    'performance optimization platform for athletes': 'Healthcare',\n",
        "    'event venue booking platform': 'Hospitality',\n",
        "    'digital media platform': 'Media and Entertainment',\n",
        "    'visual search and discovery platform': 'Technology',\n",
        "    'home services marketplace': 'Logistics and Services',\n",
        "    'end to end reverse logistics solution platform': 'Logistics and Services',\n",
        "    'virtual health consultation app': 'Healthcare',\n",
        "    'online renting platform': 'Real Estate and Property',\n",
        "    'logistics services provider': 'Logistics and Services',\n",
        "    'data science & ux design learning platform': 'Education',\n",
        "    'structured lending marketplace': 'Finance',\n",
        "    'electric bike manufacturers': 'Transportation',\n",
        "    'ecommerce platform solutions': 'E-Commerce',\n",
        "    'online media publication': 'Media and Entertainment',\n",
        "    'international hiring platform': 'Others',\n",
        "    'logistics service provider marketplace': 'Logistics and Services',\n",
        "    'hyperlocal grocery delivery service': 'Food and Beverage',\n",
        "    'sports education platform': 'Education',\n",
        "    'bike, appliances renting marketplace': 'Logistics and Services',\n",
        "    'online marketplace for industrial goods': 'E-Commerce',\n",
        "    'reward points mobile app': 'Technology',\n",
        "    'mobile accessories online store': 'E-Commerce',\n",
        "    'content discovery & reward points platform': 'Technology',\n",
        "    'artificial intelligence platform': 'Technology',\n",
        "    'medical consultation & doctor appointment booking platform': 'Healthcare',\n",
        "    'mobile fitness app': 'Healthcare',\n",
        "    'digital coupons, deal & cashback aggregator app': 'Finance',\n",
        "    'mobile game development & design platform': 'Media and Entertainment',\n",
        "    'b2b ecommerce marketplace': 'E-Commerce',\n",
        "    'furniture and appliances rental platform': 'E-Commerce',\n",
        "    'b2b merchandize platform': 'E-Commerce',\n",
        "    'real estate focused tech platform': 'Real Estate and Property',\n",
        "    'photographer online search & booking platform': 'Media and Entertainment',\n",
        "    'grocery delivery platform': 'Food and Beverage',\n",
        "    'mobile car servicing appointment app': 'Transportation',\n",
        "    'new curation mobile app': 'Media and Entertainment',\n",
        "    'mobile wallet': 'Finance',\n",
        "    'bus aggregation and rental mobile app': 'Transportation',\n",
        "    'hyperlocal online services platform': 'Logistics and Services',\n",
        "    'wifi first cloud communication platform': 'Technology',\n",
        "    'alternate mobile monetization platform': 'Technology',\n",
        "    'online food ordering marketplace': 'Food and Beverage',\n",
        "    'quick service restaurant & online delivery': 'Food and Beverage',\n",
        "    'online loans marketplace': 'Finance',\n",
        "    'budget hotels aggregator': 'Hospitality',\n",
        "    'efficient energy management platform': 'Energy and Clean Technology',\n",
        "    'digital intelligent learning platform': 'Education',\n",
        "    'voice call incentivization mobile app': 'Technology',\n",
        "    'online counselling and psychological support platform': 'Healthcare',\n",
        "    'domestic help aggregation platform': 'Logistics and Services',\n",
        "    'home stay & room rentals platform': 'Hospitality',\n",
        "    'selfie mobile app': 'Media and Entertainment',\n",
        "    'online reputation management platform': 'Technology',\n",
        "    'online grocery platform': 'Food and Beverage',\n",
        "    'online content platform for women': 'Media and Entertainment',\n",
        "    'online vehicle spare parts etailer': 'E-Commerce',\n",
        "    'event ticketing platform': 'Media and Entertainment',\n",
        "    'affordable personal healthcare products': 'Healthcare',\n",
        "    'premium dining lounges & restaurants': 'Hospitality',\n",
        "    'mobile growth hacking platform': 'Technology',\n",
        "    'skill training startup': 'Education',\n",
        "    'beauty and wellness marketplace': 'Healthcare',\n",
        "    'marketplace app for bangkok': 'Others',\n",
        "    'on-demand maids service provider': 'Logistics and Services',\n",
        "    'ecommerce product search engine': 'E-Commerce',\n",
        "    'ready to cook packaged foods': 'Food and Beverage',\n",
        "    'product customization platform': 'E-Commerce',\n",
        "    'branded food products online sales': 'Food and Beverage',\n",
        "    'talent platform for fashion professionals': 'Fashion and Apparel',\n",
        "    'auto insurance online platform': 'Finance',\n",
        "    'hyperlocal logistics service provider': 'Logistics and Services',\n",
        "    'cricket management mobile game': 'Media and Entertainment',\n",
        "    'on demand laundry service platform': 'Logistics and Services',\n",
        "    'ecommerce discount & cashback coupons platform': 'Finance',\n",
        "    'virtual reality headset creator': 'Technology',\n",
        "    'others':'Others'\n",
        "}\n",
        "\n",
        "# Replace Industry Vertical with corresponding Industry Category and store in a new column\n",
        "df['Industry Category'] = df['Industry Vertical'].str.lower().map(industry_mapping)\n"
      ],
      "metadata": {
        "id": "7ZqAaeZbtlJs"
      },
      "execution_count": null,
      "outputs": []
    },
    {
      "cell_type": "code",
      "source": [
        "df['Industry Category'].fillna(df['Industry Category'].mode()[0], inplace=True)"
      ],
      "metadata": {
        "id": "e5KJiQlmkaAX"
      },
      "execution_count": null,
      "outputs": []
    },
    {
      "cell_type": "code",
      "source": [
        "df.head()"
      ],
      "metadata": {
        "colab": {
          "base_uri": "https://localhost:8080/",
          "height": 362
        },
        "id": "9SYYLl5yumSg",
        "outputId": "f48e9ec2-479d-43a8-89dd-932f5a6b4867"
      },
      "execution_count": null,
      "outputs": [
        {
          "output_type": "execute_result",
          "data": {
            "text/plain": [
              "     Startup Name  Industry Vertical  SubVertical  City Location  \\\n",
              "2992        #fame                113            3             70   \n",
              "1242    121policy                113         1235             47   \n",
              "201     19th mile                368           94             28   \n",
              "1007       1crowd                241         1716             54   \n",
              "311           1mg                113         1336             28   \n",
              "\n",
              "                                         Investors Name  InvestmentnType  \\\n",
              "2992                                to the new ventures               11   \n",
              "1242                                            xelpmoc               14   \n",
              "201   rishi vasudev, excelsior investments, ritesh v...               13   \n",
              "1007                                   ganesh natarajan               14   \n",
              "311   sequoia capital, maverick capital ltd and hbm ...               11   \n",
              "\n",
              "      Amount in USD       Date  Day  Month  Year  Industry Category  \n",
              "2992   1.000000e+07 2015-01-05    5      1  2015                 17  \n",
              "1242   1.842990e+07 2016-11-25   25     11  2016                 17  \n",
              "201    1.800000e+05 2018-07-12   12      7  2018                 17  \n",
              "1007   1.842990e+07 2017-02-09    9      2  2017                  8  \n",
              "311    1.000000e+07 2018-04-27   27      4  2018                 17  "
            ],
            "text/html": [
              "\n",
              "  <div id=\"df-929f5f21-9d47-407f-b8fc-ec32256fa43c\" class=\"colab-df-container\">\n",
              "    <div>\n",
              "<style scoped>\n",
              "    .dataframe tbody tr th:only-of-type {\n",
              "        vertical-align: middle;\n",
              "    }\n",
              "\n",
              "    .dataframe tbody tr th {\n",
              "        vertical-align: top;\n",
              "    }\n",
              "\n",
              "    .dataframe thead th {\n",
              "        text-align: right;\n",
              "    }\n",
              "</style>\n",
              "<table border=\"1\" class=\"dataframe\">\n",
              "  <thead>\n",
              "    <tr style=\"text-align: right;\">\n",
              "      <th></th>\n",
              "      <th>Startup Name</th>\n",
              "      <th>Industry Vertical</th>\n",
              "      <th>SubVertical</th>\n",
              "      <th>City Location</th>\n",
              "      <th>Investors Name</th>\n",
              "      <th>InvestmentnType</th>\n",
              "      <th>Amount in USD</th>\n",
              "      <th>Date</th>\n",
              "      <th>Day</th>\n",
              "      <th>Month</th>\n",
              "      <th>Year</th>\n",
              "      <th>Industry Category</th>\n",
              "    </tr>\n",
              "  </thead>\n",
              "  <tbody>\n",
              "    <tr>\n",
              "      <th>2992</th>\n",
              "      <td>#fame</td>\n",
              "      <td>113</td>\n",
              "      <td>3</td>\n",
              "      <td>70</td>\n",
              "      <td>to the new ventures</td>\n",
              "      <td>11</td>\n",
              "      <td>1.000000e+07</td>\n",
              "      <td>2015-01-05</td>\n",
              "      <td>5</td>\n",
              "      <td>1</td>\n",
              "      <td>2015</td>\n",
              "      <td>17</td>\n",
              "    </tr>\n",
              "    <tr>\n",
              "      <th>1242</th>\n",
              "      <td>121policy</td>\n",
              "      <td>113</td>\n",
              "      <td>1235</td>\n",
              "      <td>47</td>\n",
              "      <td>xelpmoc</td>\n",
              "      <td>14</td>\n",
              "      <td>1.842990e+07</td>\n",
              "      <td>2016-11-25</td>\n",
              "      <td>25</td>\n",
              "      <td>11</td>\n",
              "      <td>2016</td>\n",
              "      <td>17</td>\n",
              "    </tr>\n",
              "    <tr>\n",
              "      <th>201</th>\n",
              "      <td>19th mile</td>\n",
              "      <td>368</td>\n",
              "      <td>94</td>\n",
              "      <td>28</td>\n",
              "      <td>rishi vasudev, excelsior investments, ritesh v...</td>\n",
              "      <td>13</td>\n",
              "      <td>1.800000e+05</td>\n",
              "      <td>2018-07-12</td>\n",
              "      <td>12</td>\n",
              "      <td>7</td>\n",
              "      <td>2018</td>\n",
              "      <td>17</td>\n",
              "    </tr>\n",
              "    <tr>\n",
              "      <th>1007</th>\n",
              "      <td>1crowd</td>\n",
              "      <td>241</td>\n",
              "      <td>1716</td>\n",
              "      <td>54</td>\n",
              "      <td>ganesh natarajan</td>\n",
              "      <td>14</td>\n",
              "      <td>1.842990e+07</td>\n",
              "      <td>2017-02-09</td>\n",
              "      <td>9</td>\n",
              "      <td>2</td>\n",
              "      <td>2017</td>\n",
              "      <td>8</td>\n",
              "    </tr>\n",
              "    <tr>\n",
              "      <th>311</th>\n",
              "      <td>1mg</td>\n",
              "      <td>113</td>\n",
              "      <td>1336</td>\n",
              "      <td>28</td>\n",
              "      <td>sequoia capital, maverick capital ltd and hbm ...</td>\n",
              "      <td>11</td>\n",
              "      <td>1.000000e+07</td>\n",
              "      <td>2018-04-27</td>\n",
              "      <td>27</td>\n",
              "      <td>4</td>\n",
              "      <td>2018</td>\n",
              "      <td>17</td>\n",
              "    </tr>\n",
              "  </tbody>\n",
              "</table>\n",
              "</div>\n",
              "    <div class=\"colab-df-buttons\">\n",
              "\n",
              "  <div class=\"colab-df-container\">\n",
              "    <button class=\"colab-df-convert\" onclick=\"convertToInteractive('df-929f5f21-9d47-407f-b8fc-ec32256fa43c')\"\n",
              "            title=\"Convert this dataframe to an interactive table.\"\n",
              "            style=\"display:none;\">\n",
              "\n",
              "  <svg xmlns=\"http://www.w3.org/2000/svg\" height=\"24px\" viewBox=\"0 -960 960 960\">\n",
              "    <path d=\"M120-120v-720h720v720H120Zm60-500h600v-160H180v160Zm220 220h160v-160H400v160Zm0 220h160v-160H400v160ZM180-400h160v-160H180v160Zm440 0h160v-160H620v160ZM180-180h160v-160H180v160Zm440 0h160v-160H620v160Z\"/>\n",
              "  </svg>\n",
              "    </button>\n",
              "\n",
              "  <style>\n",
              "    .colab-df-container {\n",
              "      display:flex;\n",
              "      gap: 12px;\n",
              "    }\n",
              "\n",
              "    .colab-df-convert {\n",
              "      background-color: #E8F0FE;\n",
              "      border: none;\n",
              "      border-radius: 50%;\n",
              "      cursor: pointer;\n",
              "      display: none;\n",
              "      fill: #1967D2;\n",
              "      height: 32px;\n",
              "      padding: 0 0 0 0;\n",
              "      width: 32px;\n",
              "    }\n",
              "\n",
              "    .colab-df-convert:hover {\n",
              "      background-color: #E2EBFA;\n",
              "      box-shadow: 0px 1px 2px rgba(60, 64, 67, 0.3), 0px 1px 3px 1px rgba(60, 64, 67, 0.15);\n",
              "      fill: #174EA6;\n",
              "    }\n",
              "\n",
              "    .colab-df-buttons div {\n",
              "      margin-bottom: 4px;\n",
              "    }\n",
              "\n",
              "    [theme=dark] .colab-df-convert {\n",
              "      background-color: #3B4455;\n",
              "      fill: #D2E3FC;\n",
              "    }\n",
              "\n",
              "    [theme=dark] .colab-df-convert:hover {\n",
              "      background-color: #434B5C;\n",
              "      box-shadow: 0px 1px 3px 1px rgba(0, 0, 0, 0.15);\n",
              "      filter: drop-shadow(0px 1px 2px rgba(0, 0, 0, 0.3));\n",
              "      fill: #FFFFFF;\n",
              "    }\n",
              "  </style>\n",
              "\n",
              "    <script>\n",
              "      const buttonEl =\n",
              "        document.querySelector('#df-929f5f21-9d47-407f-b8fc-ec32256fa43c button.colab-df-convert');\n",
              "      buttonEl.style.display =\n",
              "        google.colab.kernel.accessAllowed ? 'block' : 'none';\n",
              "\n",
              "      async function convertToInteractive(key) {\n",
              "        const element = document.querySelector('#df-929f5f21-9d47-407f-b8fc-ec32256fa43c');\n",
              "        const dataTable =\n",
              "          await google.colab.kernel.invokeFunction('convertToInteractive',\n",
              "                                                    [key], {});\n",
              "        if (!dataTable) return;\n",
              "\n",
              "        const docLinkHtml = 'Like what you see? Visit the ' +\n",
              "          '<a target=\"_blank\" href=https://colab.research.google.com/notebooks/data_table.ipynb>data table notebook</a>'\n",
              "          + ' to learn more about interactive tables.';\n",
              "        element.innerHTML = '';\n",
              "        dataTable['output_type'] = 'display_data';\n",
              "        await google.colab.output.renderOutput(dataTable, element);\n",
              "        const docLink = document.createElement('div');\n",
              "        docLink.innerHTML = docLinkHtml;\n",
              "        element.appendChild(docLink);\n",
              "      }\n",
              "    </script>\n",
              "  </div>\n",
              "\n",
              "\n",
              "<div id=\"df-82be786e-3b5c-4891-a7d8-9286ab176067\">\n",
              "  <button class=\"colab-df-quickchart\" onclick=\"quickchart('df-82be786e-3b5c-4891-a7d8-9286ab176067')\"\n",
              "            title=\"Suggest charts\"\n",
              "            style=\"display:none;\">\n",
              "\n",
              "<svg xmlns=\"http://www.w3.org/2000/svg\" height=\"24px\"viewBox=\"0 0 24 24\"\n",
              "     width=\"24px\">\n",
              "    <g>\n",
              "        <path d=\"M19 3H5c-1.1 0-2 .9-2 2v14c0 1.1.9 2 2 2h14c1.1 0 2-.9 2-2V5c0-1.1-.9-2-2-2zM9 17H7v-7h2v7zm4 0h-2V7h2v10zm4 0h-2v-4h2v4z\"/>\n",
              "    </g>\n",
              "</svg>\n",
              "  </button>\n",
              "\n",
              "<style>\n",
              "  .colab-df-quickchart {\n",
              "      --bg-color: #E8F0FE;\n",
              "      --fill-color: #1967D2;\n",
              "      --hover-bg-color: #E2EBFA;\n",
              "      --hover-fill-color: #174EA6;\n",
              "      --disabled-fill-color: #AAA;\n",
              "      --disabled-bg-color: #DDD;\n",
              "  }\n",
              "\n",
              "  [theme=dark] .colab-df-quickchart {\n",
              "      --bg-color: #3B4455;\n",
              "      --fill-color: #D2E3FC;\n",
              "      --hover-bg-color: #434B5C;\n",
              "      --hover-fill-color: #FFFFFF;\n",
              "      --disabled-bg-color: #3B4455;\n",
              "      --disabled-fill-color: #666;\n",
              "  }\n",
              "\n",
              "  .colab-df-quickchart {\n",
              "    background-color: var(--bg-color);\n",
              "    border: none;\n",
              "    border-radius: 50%;\n",
              "    cursor: pointer;\n",
              "    display: none;\n",
              "    fill: var(--fill-color);\n",
              "    height: 32px;\n",
              "    padding: 0;\n",
              "    width: 32px;\n",
              "  }\n",
              "\n",
              "  .colab-df-quickchart:hover {\n",
              "    background-color: var(--hover-bg-color);\n",
              "    box-shadow: 0 1px 2px rgba(60, 64, 67, 0.3), 0 1px 3px 1px rgba(60, 64, 67, 0.15);\n",
              "    fill: var(--button-hover-fill-color);\n",
              "  }\n",
              "\n",
              "  .colab-df-quickchart-complete:disabled,\n",
              "  .colab-df-quickchart-complete:disabled:hover {\n",
              "    background-color: var(--disabled-bg-color);\n",
              "    fill: var(--disabled-fill-color);\n",
              "    box-shadow: none;\n",
              "  }\n",
              "\n",
              "  .colab-df-spinner {\n",
              "    border: 2px solid var(--fill-color);\n",
              "    border-color: transparent;\n",
              "    border-bottom-color: var(--fill-color);\n",
              "    animation:\n",
              "      spin 1s steps(1) infinite;\n",
              "  }\n",
              "\n",
              "  @keyframes spin {\n",
              "    0% {\n",
              "      border-color: transparent;\n",
              "      border-bottom-color: var(--fill-color);\n",
              "      border-left-color: var(--fill-color);\n",
              "    }\n",
              "    20% {\n",
              "      border-color: transparent;\n",
              "      border-left-color: var(--fill-color);\n",
              "      border-top-color: var(--fill-color);\n",
              "    }\n",
              "    30% {\n",
              "      border-color: transparent;\n",
              "      border-left-color: var(--fill-color);\n",
              "      border-top-color: var(--fill-color);\n",
              "      border-right-color: var(--fill-color);\n",
              "    }\n",
              "    40% {\n",
              "      border-color: transparent;\n",
              "      border-right-color: var(--fill-color);\n",
              "      border-top-color: var(--fill-color);\n",
              "    }\n",
              "    60% {\n",
              "      border-color: transparent;\n",
              "      border-right-color: var(--fill-color);\n",
              "    }\n",
              "    80% {\n",
              "      border-color: transparent;\n",
              "      border-right-color: var(--fill-color);\n",
              "      border-bottom-color: var(--fill-color);\n",
              "    }\n",
              "    90% {\n",
              "      border-color: transparent;\n",
              "      border-bottom-color: var(--fill-color);\n",
              "    }\n",
              "  }\n",
              "</style>\n",
              "\n",
              "  <script>\n",
              "    async function quickchart(key) {\n",
              "      const quickchartButtonEl =\n",
              "        document.querySelector('#' + key + ' button');\n",
              "      quickchartButtonEl.disabled = true;  // To prevent multiple clicks.\n",
              "      quickchartButtonEl.classList.add('colab-df-spinner');\n",
              "      try {\n",
              "        const charts = await google.colab.kernel.invokeFunction(\n",
              "            'suggestCharts', [key], {});\n",
              "      } catch (error) {\n",
              "        console.error('Error during call to suggestCharts:', error);\n",
              "      }\n",
              "      quickchartButtonEl.classList.remove('colab-df-spinner');\n",
              "      quickchartButtonEl.classList.add('colab-df-quickchart-complete');\n",
              "    }\n",
              "    (() => {\n",
              "      let quickchartButtonEl =\n",
              "        document.querySelector('#df-82be786e-3b5c-4891-a7d8-9286ab176067 button');\n",
              "      quickchartButtonEl.style.display =\n",
              "        google.colab.kernel.accessAllowed ? 'block' : 'none';\n",
              "    })();\n",
              "  </script>\n",
              "</div>\n",
              "    </div>\n",
              "  </div>\n"
            ]
          },
          "metadata": {},
          "execution_count": 54
        }
      ]
    },
    {
      "cell_type": "code",
      "source": [
        "label_encoder = LabelEncoder()\n",
        "df['Industry Category'] = label_encoder.fit_transform(df['Industry Category'])"
      ],
      "metadata": {
        "id": "eiweW_iBzOH8"
      },
      "execution_count": null,
      "outputs": []
    },
    {
      "cell_type": "code",
      "source": [
        "unique_indusverticals = df['Industry Category'].unique()\n",
        "print(unique_indusverticals)"
      ],
      "metadata": {
        "colab": {
          "base_uri": "https://localhost:8080/"
        },
        "id": "5TSmUe25coAi",
        "outputId": "2083b808-2088-40df-ec56-ce7110fb9b89"
      },
      "execution_count": null,
      "outputs": [
        {
          "output_type": "stream",
          "name": "stdout",
          "text": [
            "[17  8  1 10 18 12  6  9  7 15 19  2 16  4 14 11  0  5 13  3]\n"
          ]
        }
      ]
    },
    {
      "cell_type": "code",
      "source": [
        "# one hot encoding\n",
        "# df = pd.get_dummies(df, columns=['Industry Category'], prefix='industry')"
      ],
      "metadata": {
        "id": "CNfY7AFAvra7"
      },
      "execution_count": null,
      "outputs": []
    },
    {
      "cell_type": "code",
      "source": [
        "df['SubVertical'].fillna(df['SubVertical'].mode()[0], inplace=True)\n",
        "unique_subverticals = df['SubVertical'].unique()\n",
        "print(unique_subverticals)"
      ],
      "metadata": {
        "colab": {
          "base_uri": "https://localhost:8080/"
        },
        "id": "GImlI6R-etf1",
        "outputId": "b4af01bb-9a33-4e5d-eead-1789633e33b1"
      },
      "execution_count": null,
      "outputs": [
        {
          "output_type": "stream",
          "name": "stdout",
          "text": [
            "['Unknown' 'online insurance platform'\n",
            " 'artificial intelligence-based sales acceleration software platform' ...\n",
            " 'self-driven cab booking platform' 'car driver discovery app'\n",
            " 'online recruitment platform']\n"
          ]
        }
      ]
    },
    {
      "cell_type": "code",
      "source": [
        "\n",
        "# Handle missing values if any\n",
        "\n",
        "# Encode categorical variables using Label Encoding\n",
        "label_encoder = LabelEncoder()\n",
        "df['Industry Vertical'] = label_encoder.fit_transform(df['Industry Vertical'])\n",
        "df['SubVertical'] = label_encoder.fit_transform(df['SubVertical'])\n",
        "df.rename(columns={'City  Location': 'City Location'}, inplace=True)\n",
        "df['City Location'] = label_encoder.fit_transform(df['City Location'])\n",
        "df['InvestmentnType'] = label_encoder.fit_transform(df['InvestmentnType'])"
      ],
      "metadata": {
        "id": "3Bg-3IIG-QZ8"
      },
      "execution_count": null,
      "outputs": []
    },
    {
      "cell_type": "code",
      "source": [
        "\n",
        "# Example: Total funding received by each startup till the current round\n",
        "df['Total Funding'] = df.groupby('Startup Name')['Amount in USD'].cumsum()"
      ],
      "metadata": {
        "id": "LyuE0xryzzzZ"
      },
      "execution_count": null,
      "outputs": []
    },
    {
      "cell_type": "code",
      "source": [
        "df.head(2)"
      ],
      "metadata": {
        "colab": {
          "base_uri": "https://localhost:8080/",
          "height": 184
        },
        "id": "IRsyirnnDlO3",
        "outputId": "ff38b3e6-7dba-42fc-c974-687fdaffa1a4"
      },
      "execution_count": null,
      "outputs": [
        {
          "output_type": "execute_result",
          "data": {
            "text/plain": [
              "     Startup Name  Industry Vertical  SubVertical  City Location  \\\n",
              "2992        #fame                113            3             70   \n",
              "1242    121policy                113         1235             47   \n",
              "\n",
              "           Investors Name  InvestmentnType  Amount in USD       Date  Day  \\\n",
              "2992  to the new ventures               11   1.000000e+07 2015-01-05    5   \n",
              "1242              xelpmoc               14   1.842990e+07 2016-11-25   25   \n",
              "\n",
              "      Month  Year  Industry Category  Total Funding  \n",
              "2992      1  2015                 17   1.000000e+07  \n",
              "1242     11  2016                 17   1.842990e+07  "
            ],
            "text/html": [
              "\n",
              "  <div id=\"df-a958832e-021e-4ebd-9167-9219d9529b4a\" class=\"colab-df-container\">\n",
              "    <div>\n",
              "<style scoped>\n",
              "    .dataframe tbody tr th:only-of-type {\n",
              "        vertical-align: middle;\n",
              "    }\n",
              "\n",
              "    .dataframe tbody tr th {\n",
              "        vertical-align: top;\n",
              "    }\n",
              "\n",
              "    .dataframe thead th {\n",
              "        text-align: right;\n",
              "    }\n",
              "</style>\n",
              "<table border=\"1\" class=\"dataframe\">\n",
              "  <thead>\n",
              "    <tr style=\"text-align: right;\">\n",
              "      <th></th>\n",
              "      <th>Startup Name</th>\n",
              "      <th>Industry Vertical</th>\n",
              "      <th>SubVertical</th>\n",
              "      <th>City Location</th>\n",
              "      <th>Investors Name</th>\n",
              "      <th>InvestmentnType</th>\n",
              "      <th>Amount in USD</th>\n",
              "      <th>Date</th>\n",
              "      <th>Day</th>\n",
              "      <th>Month</th>\n",
              "      <th>Year</th>\n",
              "      <th>Industry Category</th>\n",
              "      <th>Total Funding</th>\n",
              "    </tr>\n",
              "  </thead>\n",
              "  <tbody>\n",
              "    <tr>\n",
              "      <th>2992</th>\n",
              "      <td>#fame</td>\n",
              "      <td>113</td>\n",
              "      <td>3</td>\n",
              "      <td>70</td>\n",
              "      <td>to the new ventures</td>\n",
              "      <td>11</td>\n",
              "      <td>1.000000e+07</td>\n",
              "      <td>2015-01-05</td>\n",
              "      <td>5</td>\n",
              "      <td>1</td>\n",
              "      <td>2015</td>\n",
              "      <td>17</td>\n",
              "      <td>1.000000e+07</td>\n",
              "    </tr>\n",
              "    <tr>\n",
              "      <th>1242</th>\n",
              "      <td>121policy</td>\n",
              "      <td>113</td>\n",
              "      <td>1235</td>\n",
              "      <td>47</td>\n",
              "      <td>xelpmoc</td>\n",
              "      <td>14</td>\n",
              "      <td>1.842990e+07</td>\n",
              "      <td>2016-11-25</td>\n",
              "      <td>25</td>\n",
              "      <td>11</td>\n",
              "      <td>2016</td>\n",
              "      <td>17</td>\n",
              "      <td>1.842990e+07</td>\n",
              "    </tr>\n",
              "  </tbody>\n",
              "</table>\n",
              "</div>\n",
              "    <div class=\"colab-df-buttons\">\n",
              "\n",
              "  <div class=\"colab-df-container\">\n",
              "    <button class=\"colab-df-convert\" onclick=\"convertToInteractive('df-a958832e-021e-4ebd-9167-9219d9529b4a')\"\n",
              "            title=\"Convert this dataframe to an interactive table.\"\n",
              "            style=\"display:none;\">\n",
              "\n",
              "  <svg xmlns=\"http://www.w3.org/2000/svg\" height=\"24px\" viewBox=\"0 -960 960 960\">\n",
              "    <path d=\"M120-120v-720h720v720H120Zm60-500h600v-160H180v160Zm220 220h160v-160H400v160Zm0 220h160v-160H400v160ZM180-400h160v-160H180v160Zm440 0h160v-160H620v160ZM180-180h160v-160H180v160Zm440 0h160v-160H620v160Z\"/>\n",
              "  </svg>\n",
              "    </button>\n",
              "\n",
              "  <style>\n",
              "    .colab-df-container {\n",
              "      display:flex;\n",
              "      gap: 12px;\n",
              "    }\n",
              "\n",
              "    .colab-df-convert {\n",
              "      background-color: #E8F0FE;\n",
              "      border: none;\n",
              "      border-radius: 50%;\n",
              "      cursor: pointer;\n",
              "      display: none;\n",
              "      fill: #1967D2;\n",
              "      height: 32px;\n",
              "      padding: 0 0 0 0;\n",
              "      width: 32px;\n",
              "    }\n",
              "\n",
              "    .colab-df-convert:hover {\n",
              "      background-color: #E2EBFA;\n",
              "      box-shadow: 0px 1px 2px rgba(60, 64, 67, 0.3), 0px 1px 3px 1px rgba(60, 64, 67, 0.15);\n",
              "      fill: #174EA6;\n",
              "    }\n",
              "\n",
              "    .colab-df-buttons div {\n",
              "      margin-bottom: 4px;\n",
              "    }\n",
              "\n",
              "    [theme=dark] .colab-df-convert {\n",
              "      background-color: #3B4455;\n",
              "      fill: #D2E3FC;\n",
              "    }\n",
              "\n",
              "    [theme=dark] .colab-df-convert:hover {\n",
              "      background-color: #434B5C;\n",
              "      box-shadow: 0px 1px 3px 1px rgba(0, 0, 0, 0.15);\n",
              "      filter: drop-shadow(0px 1px 2px rgba(0, 0, 0, 0.3));\n",
              "      fill: #FFFFFF;\n",
              "    }\n",
              "  </style>\n",
              "\n",
              "    <script>\n",
              "      const buttonEl =\n",
              "        document.querySelector('#df-a958832e-021e-4ebd-9167-9219d9529b4a button.colab-df-convert');\n",
              "      buttonEl.style.display =\n",
              "        google.colab.kernel.accessAllowed ? 'block' : 'none';\n",
              "\n",
              "      async function convertToInteractive(key) {\n",
              "        const element = document.querySelector('#df-a958832e-021e-4ebd-9167-9219d9529b4a');\n",
              "        const dataTable =\n",
              "          await google.colab.kernel.invokeFunction('convertToInteractive',\n",
              "                                                    [key], {});\n",
              "        if (!dataTable) return;\n",
              "\n",
              "        const docLinkHtml = 'Like what you see? Visit the ' +\n",
              "          '<a target=\"_blank\" href=https://colab.research.google.com/notebooks/data_table.ipynb>data table notebook</a>'\n",
              "          + ' to learn more about interactive tables.';\n",
              "        element.innerHTML = '';\n",
              "        dataTable['output_type'] = 'display_data';\n",
              "        await google.colab.output.renderOutput(dataTable, element);\n",
              "        const docLink = document.createElement('div');\n",
              "        docLink.innerHTML = docLinkHtml;\n",
              "        element.appendChild(docLink);\n",
              "      }\n",
              "    </script>\n",
              "  </div>\n",
              "\n",
              "\n",
              "<div id=\"df-a2cc0489-c480-485e-b97c-ec73ef240566\">\n",
              "  <button class=\"colab-df-quickchart\" onclick=\"quickchart('df-a2cc0489-c480-485e-b97c-ec73ef240566')\"\n",
              "            title=\"Suggest charts\"\n",
              "            style=\"display:none;\">\n",
              "\n",
              "<svg xmlns=\"http://www.w3.org/2000/svg\" height=\"24px\"viewBox=\"0 0 24 24\"\n",
              "     width=\"24px\">\n",
              "    <g>\n",
              "        <path d=\"M19 3H5c-1.1 0-2 .9-2 2v14c0 1.1.9 2 2 2h14c1.1 0 2-.9 2-2V5c0-1.1-.9-2-2-2zM9 17H7v-7h2v7zm4 0h-2V7h2v10zm4 0h-2v-4h2v4z\"/>\n",
              "    </g>\n",
              "</svg>\n",
              "  </button>\n",
              "\n",
              "<style>\n",
              "  .colab-df-quickchart {\n",
              "      --bg-color: #E8F0FE;\n",
              "      --fill-color: #1967D2;\n",
              "      --hover-bg-color: #E2EBFA;\n",
              "      --hover-fill-color: #174EA6;\n",
              "      --disabled-fill-color: #AAA;\n",
              "      --disabled-bg-color: #DDD;\n",
              "  }\n",
              "\n",
              "  [theme=dark] .colab-df-quickchart {\n",
              "      --bg-color: #3B4455;\n",
              "      --fill-color: #D2E3FC;\n",
              "      --hover-bg-color: #434B5C;\n",
              "      --hover-fill-color: #FFFFFF;\n",
              "      --disabled-bg-color: #3B4455;\n",
              "      --disabled-fill-color: #666;\n",
              "  }\n",
              "\n",
              "  .colab-df-quickchart {\n",
              "    background-color: var(--bg-color);\n",
              "    border: none;\n",
              "    border-radius: 50%;\n",
              "    cursor: pointer;\n",
              "    display: none;\n",
              "    fill: var(--fill-color);\n",
              "    height: 32px;\n",
              "    padding: 0;\n",
              "    width: 32px;\n",
              "  }\n",
              "\n",
              "  .colab-df-quickchart:hover {\n",
              "    background-color: var(--hover-bg-color);\n",
              "    box-shadow: 0 1px 2px rgba(60, 64, 67, 0.3), 0 1px 3px 1px rgba(60, 64, 67, 0.15);\n",
              "    fill: var(--button-hover-fill-color);\n",
              "  }\n",
              "\n",
              "  .colab-df-quickchart-complete:disabled,\n",
              "  .colab-df-quickchart-complete:disabled:hover {\n",
              "    background-color: var(--disabled-bg-color);\n",
              "    fill: var(--disabled-fill-color);\n",
              "    box-shadow: none;\n",
              "  }\n",
              "\n",
              "  .colab-df-spinner {\n",
              "    border: 2px solid var(--fill-color);\n",
              "    border-color: transparent;\n",
              "    border-bottom-color: var(--fill-color);\n",
              "    animation:\n",
              "      spin 1s steps(1) infinite;\n",
              "  }\n",
              "\n",
              "  @keyframes spin {\n",
              "    0% {\n",
              "      border-color: transparent;\n",
              "      border-bottom-color: var(--fill-color);\n",
              "      border-left-color: var(--fill-color);\n",
              "    }\n",
              "    20% {\n",
              "      border-color: transparent;\n",
              "      border-left-color: var(--fill-color);\n",
              "      border-top-color: var(--fill-color);\n",
              "    }\n",
              "    30% {\n",
              "      border-color: transparent;\n",
              "      border-left-color: var(--fill-color);\n",
              "      border-top-color: var(--fill-color);\n",
              "      border-right-color: var(--fill-color);\n",
              "    }\n",
              "    40% {\n",
              "      border-color: transparent;\n",
              "      border-right-color: var(--fill-color);\n",
              "      border-top-color: var(--fill-color);\n",
              "    }\n",
              "    60% {\n",
              "      border-color: transparent;\n",
              "      border-right-color: var(--fill-color);\n",
              "    }\n",
              "    80% {\n",
              "      border-color: transparent;\n",
              "      border-right-color: var(--fill-color);\n",
              "      border-bottom-color: var(--fill-color);\n",
              "    }\n",
              "    90% {\n",
              "      border-color: transparent;\n",
              "      border-bottom-color: var(--fill-color);\n",
              "    }\n",
              "  }\n",
              "</style>\n",
              "\n",
              "  <script>\n",
              "    async function quickchart(key) {\n",
              "      const quickchartButtonEl =\n",
              "        document.querySelector('#' + key + ' button');\n",
              "      quickchartButtonEl.disabled = true;  // To prevent multiple clicks.\n",
              "      quickchartButtonEl.classList.add('colab-df-spinner');\n",
              "      try {\n",
              "        const charts = await google.colab.kernel.invokeFunction(\n",
              "            'suggestCharts', [key], {});\n",
              "      } catch (error) {\n",
              "        console.error('Error during call to suggestCharts:', error);\n",
              "      }\n",
              "      quickchartButtonEl.classList.remove('colab-df-spinner');\n",
              "      quickchartButtonEl.classList.add('colab-df-quickchart-complete');\n",
              "    }\n",
              "    (() => {\n",
              "      let quickchartButtonEl =\n",
              "        document.querySelector('#df-a2cc0489-c480-485e-b97c-ec73ef240566 button');\n",
              "      quickchartButtonEl.style.display =\n",
              "        google.colab.kernel.accessAllowed ? 'block' : 'none';\n",
              "    })();\n",
              "  </script>\n",
              "</div>\n",
              "    </div>\n",
              "  </div>\n"
            ]
          },
          "metadata": {},
          "execution_count": 57
        }
      ]
    },
    {
      "cell_type": "code",
      "source": [
        "# Drop unnecessary columns\n",
        "df.drop(['Startup Name', 'Investors Name'], axis=1, inplace=True)"
      ],
      "metadata": {
        "id": "Bnu-NilBzgwu"
      },
      "execution_count": null,
      "outputs": []
    },
    {
      "cell_type": "code",
      "source": [
        "\n",
        "# Explore the relationship between features and target variable\n",
        "sns.pairplot(df, x_vars=['Industry Vertical', 'SubVertical', 'City Location', 'InvestmentnType', 'Month', 'Year'],\n",
        "             y_vars='Amount in USD', kind='scatter')\n",
        "plt.show()\n"
      ],
      "metadata": {
        "colab": {
          "base_uri": "https://localhost:8080/",
          "height": 198
        },
        "id": "AfauuJ7W0nI4",
        "outputId": "18ca14a4-230a-4758-8f57-3fe2519d88a7"
      },
      "execution_count": null,
      "outputs": [
        {
          "output_type": "display_data",
          "data": {
            "text/plain": [
              "<Figure size 1500x250 with 6 Axes>"
            ],
            "image/png": "[encoded data removed]"
          },
          "metadata": {}
        }
      ]
    },
    {
      "cell_type": "code",
      "source": [
        "# # Use a log scale for the y-axis\n",
        "# sns.pairplot(df, x_vars=['Industry Vertical', 'SubVertical', 'City Location', 'InvestmentnType', 'Month', 'Year'],\n",
        "#              y_vars='Amount in USD', kind='scatter')\n",
        "# plt.yscale('log')  # Add this line to use a log scale for the y-axis\n",
        "# plt.show()\n"
      ],
      "metadata": {
        "colab": {
          "base_uri": "https://localhost:8080/",
          "height": 186
        },
        "id": "V_AW7N751DgL",
        "outputId": "6514a034-e974-473a-f22c-6d662763fd8b"
      },
      "execution_count": null,
      "outputs": [
        {
          "output_type": "display_data",
          "data": {
            "text/plain": [
              "<Figure size 1500x250 with 6 Axes>"
            ],
            "image/png": "[encoded data removed]"
          },
          "metadata": {}
        }
      ]
    },
    {
      "cell_type": "code",
      "source": [
        "print(df.isnull().sum())\n"
      ],
      "metadata": {
        "colab": {
          "base_uri": "https://localhost:8080/"
        },
        "id": "3JeyKzWO3ZNY",
        "outputId": "0535ec9a-8c38-413b-e19f-a208d964c638"
      },
      "execution_count": null,
      "outputs": [
        {
          "output_type": "stream",
          "name": "stdout",
          "text": [
            "Startup Name         0\n",
            "Industry Vertical    0\n",
            "SubVertical          0\n",
            "City Location        0\n",
            "Investors Name       0\n",
            "InvestmentnType      0\n",
            "Amount in USD        0\n",
            "Date                 0\n",
            "Day                  0\n",
            "Month                0\n",
            "Year                 0\n",
            "Industry Category    0\n",
            "Total Funding        0\n",
            "dtype: int64\n"
          ]
        }
      ]
    },
    {
      "cell_type": "code",
      "source": [
        "print(df.dtypes)"
      ],
      "metadata": {
        "id": "ugAcPwjN3fwj",
        "colab": {
          "base_uri": "https://localhost:8080/"
        },
        "outputId": "45852eb7-1ae8-4016-a35f-851b6e1482d2"
      },
      "execution_count": null,
      "outputs": [
        {
          "output_type": "stream",
          "name": "stdout",
          "text": [
            "Industry Vertical      int64\n",
            "SubVertical            int64\n",
            "City Location          int64\n",
            "InvestmentnType        int64\n",
            "Amount in USD        float64\n",
            "Day                    int64\n",
            "Month                  int64\n",
            "Year                   int64\n",
            "Industry Category      int64\n",
            "Total Funding        float64\n",
            "dtype: object\n"
          ]
        }
      ]
    },
    {
      "cell_type": "code",
      "source": [
        "# print(df.iloc[:, :15].dtypes)"
      ],
      "metadata": {
        "id": "ogs5y1YQ8osl"
      },
      "execution_count": null,
      "outputs": []
    },
    {
      "cell_type": "code",
      "source": [
        "df['Amount in USD'] = df['Amount in USD'].round(0)\n",
        "df['Total Funding'] = df['Total Funding'].round(0) #round of large numbers"
      ],
      "metadata": {
        "id": "BoAmG5WkszcG"
      },
      "execution_count": null,
      "outputs": []
    },
    {
      "cell_type": "code",
      "source": [
        "df5=df.copy(deep=True)"
      ],
      "metadata": {
        "id": "Vf5685MumRZj"
      },
      "execution_count": null,
      "outputs": []
    },
    {
      "cell_type": "code",
      "source": [
        "df4=df.copy(deep=True)"
      ],
      "metadata": {
        "id": "b9qZSxpZFnr8"
      },
      "execution_count": null,
      "outputs": []
    },
    {
      "cell_type": "code",
      "source": [
        "df5.drop(['Day'], axis=1, inplace=True)\n",
        "df5.drop(['Year'], axis=1, inplace=True)\n",
        "df5.drop(['Month'], axis=1, inplace=True)\n",
        "df5.drop(['SubVertical'], axis=1, inplace=True)\n",
        "df5.drop(['City Location'], axis=1, inplace=True)\n"
      ],
      "metadata": {
        "id": "1BiRbRalGzrG"
      },
      "execution_count": null,
      "outputs": []
    },
    {
      "cell_type": "code",
      "source": [
        "import pandas as pd\n",
        "from sklearn.model_selection import train_test_split\n",
        "from sklearn.ensemble import RandomForestRegressor\n",
        "from sklearn.metrics import mean_squared_error\n",
        "from sklearn.impute import SimpleImputer\n",
        "from sklearn.preprocessing import StandardScaler\n",
        "import matplotlib.pyplot as plt"
      ],
      "metadata": {
        "id": "YvG5kkQ5q2_b"
      },
      "execution_count": null,
      "outputs": []
    },
    {
      "cell_type": "code",
      "source": [
        "# model training\n",
        "# Split the dataset into training and testing sets\n",
        "X = df5.drop('Amount in USD', axis=1)\n",
        "y = df5['Amount in USD']\n",
        "X_train, X_test, y_train, y_test = train_test_split(X, y, test_size=0.2, random_state=42)\n",
        "\n",
        "# Standardize the features\n",
        "scaler = StandardScaler()\n",
        "X_train_scaled = scaler.fit_transform(X_train)\n",
        "X_test_scaled = scaler.transform(X_test)\n",
        "\n",
        "# Train a Random Forest Regressor\n",
        "model = RandomForestRegressor()\n",
        "model.fit(X_train_scaled, y_train)"
      ],
      "metadata": {
        "colab": {
          "base_uri": "https://localhost:8080/",
          "height": 75
        },
        "id": "uJ_9bSHEHMcS",
        "outputId": "2e1ae737-c860-41c6-b048-c4fa28e92dc4"
      },
      "execution_count": null,
      "outputs": [
        {
          "output_type": "execute_result",
          "data": {
            "text/plain": [
              "RandomForestRegressor()"
            ],
            "text/html": [
              "<style>#sk-container-id-1 {color: black;background-color: white;}#sk-container-id-1 pre{padding: 0;}#sk-container-id-1 div.sk-toggleable {background-color: white;}#sk-container-id-1 label.sk-toggleable__label {cursor: pointer;display: block;width: 100%;margin-bottom: 0;padding: 0.3em;box-sizing: border-box;text-align: center;}#sk-container-id-1 label.sk-toggleable__label-arrow:before {content: \"▸\";float: left;margin-right: 0.25em;color: #696969;}#sk-container-id-1 label.sk-toggleable__label-arrow:hover:before {color: black;}#sk-container-id-1 div.sk-estimator:hover label.sk-toggleable__label-arrow:before {color: black;}#sk-container-id-1 div.sk-toggleable__content {max-height: 0;max-width: 0;overflow: hidden;text-align: left;background-color: #f0f8ff;}#sk-container-id-1 div.sk-toggleable__content pre {margin: 0.2em;color: black;border-radius: 0.25em;background-color: #f0f8ff;}#sk-container-id-1 input.sk-toggleable__control:checked~div.sk-toggleable__content {max-height: 200px;max-width: 100%;overflow: auto;}#sk-container-id-1 input.sk-toggleable__control:checked~label.sk-toggleable__label-arrow:before {content: \"▾\";}#sk-container-id-1 div.sk-estimator input.sk-toggleable__control:checked~label.sk-toggleable__label {background-color: #d4ebff;}#sk-container-id-1 div.sk-label input.sk-toggleable__control:checked~label.sk-toggleable__label {background-color: #d4ebff;}#sk-container-id-1 input.sk-hidden--visually {border: 0;clip: rect(1px 1px 1px 1px);clip: rect(1px, 1px, 1px, 1px);height: 1px;margin: -1px;overflow: hidden;padding: 0;position: absolute;width: 1px;}#sk-container-id-1 div.sk-estimator {font-family: monospace;background-color: #f0f8ff;border: 1px dotted black;border-radius: 0.25em;box-sizing: border-box;margin-bottom: 0.5em;}#sk-container-id-1 div.sk-estimator:hover {background-color: #d4ebff;}#sk-container-id-1 div.sk-parallel-item::after {content: \"\";width: 100%;border-bottom: 1px solid gray;flex-grow: 1;}#sk-container-id-1 div.sk-label:hover label.sk-toggleable__label {background-color: #d4ebff;}#sk-container-id-1 div.sk-serial::before {content: \"\";position: absolute;border-left: 1px solid gray;box-sizing: border-box;top: 0;bottom: 0;left: 50%;z-index: 0;}#sk-container-id-1 div.sk-serial {display: flex;flex-direction: column;align-items: center;background-color: white;padding-right: 0.2em;padding-left: 0.2em;position: relative;}#sk-container-id-1 div.sk-item {position: relative;z-index: 1;}#sk-container-id-1 div.sk-parallel {display: flex;align-items: stretch;justify-content: center;background-color: white;position: relative;}#sk-container-id-1 div.sk-item::before, #sk-container-id-1 div.sk-parallel-item::before {content: \"\";position: absolute;border-left: 1px solid gray;box-sizing: border-box;top: 0;bottom: 0;left: 50%;z-index: -1;}#sk-container-id-1 div.sk-parallel-item {display: flex;flex-direction: column;z-index: 1;position: relative;background-color: white;}#sk-container-id-1 div.sk-parallel-item:first-child::after {align-self: flex-end;width: 50%;}#sk-container-id-1 div.sk-parallel-item:last-child::after {align-self: flex-start;width: 50%;}#sk-container-id-1 div.sk-parallel-item:only-child::after {width: 0;}#sk-container-id-1 div.sk-dashed-wrapped {border: 1px dashed gray;margin: 0 0.4em 0.5em 0.4em;box-sizing: border-box;padding-bottom: 0.4em;background-color: white;}#sk-container-id-1 div.sk-label label {font-family: monospace;font-weight: bold;display: inline-block;line-height: 1.2em;}#sk-container-id-1 div.sk-label-container {text-align: center;}#sk-container-id-1 div.sk-container {/* jupyter's `normalize.less` sets `[hidden] { display: none; }` but bootstrap.min.css set `[hidden] { display: none !important; }` so we also need the `!important` here to be able to override the default hidden behavior on the sphinx rendered scikit-learn.org. See: https://github.com/scikit-learn/scikit-learn/issues/21755 */display: inline-block !important;position: relative;}#sk-container-id-1 div.sk-text-repr-fallback {display: none;}</style><div id=\"sk-container-id-1\" class=\"sk-top-container\"><div class=\"sk-text-repr-fallback\"><pre>RandomForestRegressor()</pre><b>In a Jupyter environment, please rerun this cell to show the HTML representation or trust the notebook. <br />On GitHub, the HTML representation is unable to render, please try loading this page with nbviewer.org.</b></div><div class=\"sk-container\" hidden><div class=\"sk-item\"><div class=\"sk-estimator sk-toggleable\"><input class=\"sk-toggleable__control sk-hidden--visually\" id=\"sk-estimator-id-1\" type=\"checkbox\" checked><label for=\"sk-estimator-id-1\" class=\"sk-toggleable__label sk-toggleable__label-arrow\">RandomForestRegressor</label><div class=\"sk-toggleable__content\"><pre>RandomForestRegressor()</pre></div></div></div></div></div>"
            ]
          },
          "metadata": {},
          "execution_count": 71
        }
      ]
    },
    {
      "cell_type": "code",
      "source": [
        "# Make predictions on the test set\n",
        "y_pred = model.predict(X_test_scaled)\n",
        "\n",
        "# Evaluate the model\n",
        "mse = mean_squared_error(y_test, y_pred)\n",
        "r2 = r2_score(y_test, y_pred)\n",
        "\n",
        "print(f'Mean Squared Error: {mse}')\n",
        "print(f'R-squared: {r2}')\n"
      ],
      "metadata": {
        "colab": {
          "base_uri": "https://localhost:8080/"
        },
        "id": "HZB3qQL9HU8H",
        "outputId": "c14eb66d-6c12-494b-ecbd-11115010d8e5"
      },
      "execution_count": null,
      "outputs": [
        {
          "output_type": "stream",
          "name": "stdout",
          "text": [
            "Mean Squared Error: 238991018684239.25\n",
            "R-squared: 0.6245265013247561\n"
          ]
        }
      ]
    },
    {
      "cell_type": "code",
      "source": [
        "X = df4.drop('Amount in USD', axis=1)\n",
        "y = df4['Amount in USD']\n",
        "X_train, X_test, y_train, y_test = train_test_split(X, y, test_size=0.2, random_state=42)\n",
        "\n",
        "# Example: Train a Random Forest Regressor\n",
        "rf_model = RandomForestRegressor(n_estimators=100, random_state=42)\n",
        "rf_model.fit(X_train, y_train)\n",
        "\n",
        "# Example: Evaluate the model\n",
        "y_pred = rf_model.predict(X_test)\n",
        "mse = mean_squared_error(y_test, y_pred)\n",
        "print(f'Mean Squared Error: {mse}')\n",
        "\n",
        "# Feature Importance Plot\n",
        "feature_importances = pd.Series(rf_model.feature_importances_, index=X.columns)\n",
        "feature_importances.nlargest(10).plot(kind='barh')\n",
        "plt.title('Feature Importance')\n",
        "plt.show()"
      ],
      "metadata": {
        "colab": {
          "base_uri": "https://localhost:8080/",
          "height": 469
        },
        "id": "EpieQX4QsRPp",
        "outputId": "28c471ec-6063-4f7c-cae1-46931772fd00"
      },
      "execution_count": null,
      "outputs": [
        {
          "output_type": "stream",
          "name": "stdout",
          "text": [
            "Mean Squared Error: 260576405395450.38\n"
          ]
        },
        {
          "output_type": "display_data",
          "data": {
            "text/plain": [
              "<Figure size 640x480 with 1 Axes>"
            ],
            "image/png": "[encoded data removed]"
          },
          "metadata": {}
        }
      ]
    }
  ]
}